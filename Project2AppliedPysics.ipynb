{
 "cells": [
  {
   "cell_type": "markdown",
   "metadata": {},
   "source": [
    "# $\\textbf{Hvorfor sank Vasa-skipet?}$"
   ]
  },
  {
   "cell_type": "markdown",
   "metadata": {},
   "source": [
    "### $\\textbf{1 Innledning}$"
   ]
  },
  {
   "cell_type": "markdown",
   "metadata": {},
   "source": [
    "Den 10. august 1628 forliste det svenske Vasaskipet på sin jomfrutur. Hele seansen varte i kun 20 minutter, og har siden blitt stående som en ingeniørtabbe av de skjeldne. Vasa skulle være et flaggskip for det svenske militæret med sine 47.5 meter og 2 kanondekk, men endte heller på 32 meters dyp (Jarslett, 2020). Med utgangspunkt i denne hendelsen vil det være svært interessant å undersøke hvilke krefter som faktisk påvirker dynamikken og stabiliteten til et skip på havet. Vi vil i dette prosjektet derfor studere en forenklet skipsmodell som utsettes for diverse krefter ute på åpen sjø. For å realisere dette har vi programmert funksjoner som kan løse sammensatte ordinære differensiallikninger. Her er det Eulers metode og RK4 som primært har blitt tatt i bruk. Gjennom prosjektet har vi gradvis bygget opp koden til å ta hensyn til flere og flere mulige bidragsytere til skipets stabilitet, som en storm som gradvis bygger seg opp på åpent hav. Rapporten vil først ta for seg selve skipsmodellen og kreftene den utsettes for. Deretter presenteres resultater fra de ulike simuleringene som har blitt utført gjennom oppgaven. "
   ]
  },
  {
   "cell_type": "markdown",
   "metadata": {},
   "source": [
    "### $\\textbf{2 Skipsmodell}$"
   ]
  },
  {
   "cell_type": "markdown",
   "metadata": {},
   "source": [
    "For enkelhets skyld ser vi her på et langt halvsirkelformet skip med radius $R$. Skipet er kompakt med en konstand massetetthet lik $\\sigma$ og $\\lambda$ henholdsvis per frateenhet og i lengderetning. For en slik kompakt halvsirkel vil massesenteret ligge i en avstand $d = \\frac{4R}{3\\pi}$ fra metasenteret $M$, som er lokalisert midt på skipsdekket. "
   ]
  },
  {
   "cell_type": "markdown",
   "metadata": {},
   "source": [
    "For å beregne skipets oppdrift vil det være nyttig å ta i bruk skipets sektorvinkel $\\gamma$, som angir hvor stor del av halvsirkelbuen som ligger under vann. For å finne sektorvinkelen $\\beta$ i likevekt, må vi løse likningen\n",
    "\n",
    "$$f(\\beta) = \\beta - \\sin(\\beta) - \\frac{\\pi \\sigma}{\\sigma_0} = 0$$\n",
    "\n",
    "hvor $\\sigma_0$ er massetettheten til vann (se oppgavetekst). For å løse denne likningen numerisk kan den skrives om til fikspunklikningen \n",
    "\n",
    "$$ \\beta - \\sin(\\beta) = \\frac{\\pi \\sigma}{\\sigma_0} \\implies \\beta =  \\frac{\\pi \\sigma}{\\sigma_0} + \\sin(\\beta) = g(\\beta)$$\n",
    "\n",
    "Denne likningen løser vi ved å bruke fikspunktiterasjoner\n",
    "\n",
    "$$\\beta_{k+1} = g(\\beta_k)$$\n",
    "\n",
    "Dette utføres i funksjonen **solve_fixedpoint()**. I tillegg til å ta inn den opprinnelige likningen og fikspunktlikningen, tar funksjonen inn en maksgrense på antall iterasjoner og en toleranse. Førstnevnte gjør at funksjonen ikke kjører evig hvis det viser seg at problemet vårt ikke kan løses med fikspunktiterasjon. Sistnevnte gir oss muligheten til å velge hvor nærme den faktiske løsningen vi ønsker å være. \n",
    "\n",
    "I dette tilfellet har vi satt maks antall iterasjoner $maxit = 10^3$ og $tol = 10^-8$. Funksjonen bruker 44 iterasjoner og gir ut en $\\beta \\approx 2.30988 rad$. \n",
    "\n",
    "\n",
    "\n"
   ]
  },
  {
   "cell_type": "markdown",
   "metadata": {},
   "source": [
    "For videre beregninger er det essensielt å ha posisjonen til skipets metasenter, skipets massesenter, skipets dypeste punkt og angrepspunktet for oppdriften. Disse er ved likevekt gitt under. Merk at $R=10$ selv om dette ikke er det faktiske tilfellet for Vasaskipet. $y=0$ ligger på vannoverflaten.  \n",
    "\n",
    "- skipets metasenter: \n",
    "$$y_M^0 = R \\cos(\\frac{\\beta}{2}) \\implies y_M^0 = 4.04m$$\n",
    "- skipets massesenter: \n",
    "$$y_C^0 = R \\cos(\\frac{\\beta}{2}) - \\frac{4 R}{ 3 \\pi} \\implies y_C^0=-0.204m$$\n",
    "- skipets dypeste punkt:\n",
    "$$y_D^0 = R \\cos(\\frac{\\beta}{2}) - R \\implies y_D^0 = -5.96m$$\n",
    "- angrepspunktet til oppdriftskraften\n",
    "$$y_B^0 =  R \\cos(\\frac{\\beta}{2}) - \\frac{4R \\sin^3(\\frac{\\beta}{2})}{3 (\\beta - \\sin(\\beta))} \\implies y_B^0 = -2.46m$$"
   ]
  },
  {
   "cell_type": "markdown",
   "metadata": {},
   "source": [
    "### $\\textbf{3 Krefter}$ "
   ]
  },
  {
   "cell_type": "markdown",
   "metadata": {},
   "source": [
    "Til å begynne med skal denne oppgaven kun konsentrere seg om  oppdriften $F_B$ og gravitasjonskraften $F_G$. I likevekt vil disse to kreftene være like store og motsatt rettet og båten ligger i ro. Hvis vi derimot lar båten svinge om massesenteret $C$ vil oppdriften  "
   ]
  },
  {
   "cell_type": "markdown",
   "metadata": {},
   "source": []
  }
 ],
 "metadata": {
  "kernelspec": {
   "display_name": "Python 3",
   "language": "python",
   "name": "python3"
  },
  "language_info": {
   "codemirror_mode": {
    "name": "ipython",
    "version": 3
   },
   "file_extension": ".py",
   "mimetype": "text/x-python",
   "name": "python",
   "nbconvert_exporter": "python",
   "pygments_lexer": "ipython3",
   "version": "3.8.3"
  }
 },
 "nbformat": 4,
 "nbformat_minor": 4
}
